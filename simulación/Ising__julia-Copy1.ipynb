{
 "cells": [
  {
   "cell_type": "code",
   "execution_count": 20,
   "metadata": {},
   "outputs": [],
   "source": [
    "using Plots\n",
    "#using Roots\n",
    "#using BenchmarkTools\n",
    "using Statistics"
   ]
  },
  {
   "cell_type": "markdown",
   "metadata": {},
   "source": [
    "## 3.1 Armado de la red y cálculo de la energía del sistema\n",
    "Consideren una red cuadrada de $N\\times  N$, con $N^2$ el número de átomos que componen al sistema. "
   ]
  },
  {
   "cell_type": "code",
   "execution_count": 2,
   "metadata": {},
   "outputs": [],
   "source": [
    "#También declaramos las constantes\n",
    "#definimos la constante de boltzman como 1 para que los resultados tengan mejor visualización\n",
    "kb = 1\n",
    "#Se declara con esee valor J por consenso del grupo :)\n",
    "J=0.5;"
   ]
  },
  {
   "cell_type": "code",
   "execution_count": 3,
   "metadata": {},
   "outputs": [
    {
     "data": {
      "text/plain": [
       "Malla_fria (generic function with 1 method)"
      ]
     },
     "execution_count": 3,
     "metadata": {},
     "output_type": "execute_result"
    }
   ],
   "source": [
    "function Malla_fria(N)\n",
    "    return  [1 for i in 1:N^2]\n",
    "end"
   ]
  },
  {
   "cell_type": "code",
   "execution_count": 4,
   "metadata": {},
   "outputs": [
    {
     "data": {
      "text/plain": [
       "Malla (generic function with 1 method)"
      ]
     },
     "execution_count": 4,
     "metadata": {},
     "output_type": "execute_result"
    }
   ],
   "source": [
    "function Malla(N)\n",
    "    return  [rand([-1,1]) for i in 1:N^2]\n",
    "end"
   ]
  },
  {
   "cell_type": "markdown",
   "metadata": {},
   "source": [
    "Generen una lista con los primeros vecinos de cada sitio implementando condiciones periódicas a la frontera (lo cual es equivalente a transformar al plano en un toro). De esta forma, todos los sitios de la red tienen 4 vecinos."
   ]
  },
  {
   "cell_type": "code",
   "execution_count": 5,
   "metadata": {},
   "outputs": [
    {
     "data": {
      "text/plain": [
       "Vecinos (generic function with 1 method)"
      ]
     },
     "execution_count": 5,
     "metadata": {},
     "output_type": "execute_result"
    }
   ],
   "source": [
    "function Vecinos(N) #Vecinos\n",
    "    N² = N*N\n",
    "    v = zeros(Int,(N²,4))\n",
    "    #Neighbor.site: (up, right,  down, left)\n",
    "    for j in 1:N²\n",
    "    #up\n",
    "        if j+N<= N²\n",
    "            v[j,1] = j+N \n",
    "\n",
    "        elseif j+N>N²\n",
    "            v[j,1] = j - N*(N-1)\n",
    "        end\n",
    "    #right\n",
    "        if j%N != 0 \n",
    "            v[j,2] = j+1\n",
    "        elseif j%N ==0\n",
    "            v[j,2] = j-N+1 \n",
    "        end\n",
    "    #down\n",
    "        if j-N>=1\n",
    "            v[j,3] = j-N\n",
    "        elseif j-N<1\n",
    "            v[j,3] =j+N*(N-1)\n",
    "        end\n",
    "    #left    \n",
    "        if (j-1)%N != 0\n",
    "            v[j,4] = j-1\n",
    "        elseif (j-1)%N ==0\n",
    "            v[j,4] = j+N-1\n",
    "        end\n",
    "                \n",
    "    end\n",
    "            \n",
    "    return v\n",
    "end"
   ]
  },
  {
   "cell_type": "code",
   "execution_count": 23,
   "metadata": {},
   "outputs": [
    {
     "data": {
      "text/plain": [
       "9×4 Matrix{Int64}:\n",
       " 4  2  7  3\n",
       " 5  3  8  1\n",
       " 6  1  9  2\n",
       " 7  5  1  6\n",
       " 8  6  2  4\n",
       " 9  4  3  5\n",
       " 1  8  4  9\n",
       " 2  9  5  7\n",
       " 3  7  6  8"
      ]
     },
     "execution_count": 23,
     "metadata": {},
     "output_type": "execute_result"
    }
   ],
   "source": [
    "Red = Malla(3)\n",
    "Vecinos(3)"
   ]
  },
  {
   "cell_type": "markdown",
   "metadata": {},
   "source": [
    "Ya que hayan hecho esto, calculen la energía de un par de conguraciones de espines y un valor de J.\n",
    "\n",
    "La energía del sistema si hacemos la aproximación a los primero 4 vecinos es:\n",
    "\n",
    "$$E=\\sum _{<i,j>}-Js_{i}s_{j}$$"
   ]
  },
  {
   "cell_type": "code",
   "execution_count": 7,
   "metadata": {},
   "outputs": [
    {
     "data": {
      "text/plain": [
       "Energia_total (generic function with 1 method)"
      ]
     },
     "execution_count": 7,
     "metadata": {},
     "output_type": "execute_result"
    }
   ],
   "source": [
    "function Energia_total(red_lista,J)\n",
    "    N² = length(red_lista)\n",
    "    #generamos los indices de los vecinos\n",
    "    vecinos_lista = Vecinos(Int(sqrt(N²)))\n",
    "    #Creamos un arreglo donde iremos sumando cada elemento de la suma de la energía total\n",
    "    energia_total = 0\n",
    "    #Creamos un arreglo que obtenga la energía de interacción de cada elemento de la red\n",
    "    for i in 1:N²\n",
    "        #Obtenemos los indices de los vecinos\n",
    "        vecinosi= vecinos_lista[i]\n",
    "        for j in vecinosi\n",
    "            energia_total += red_lista[i]*red_lista[j]\n",
    "        end\n",
    "    \n",
    "    end\n",
    "    return energia_total*(-J)\n",
    "end"
   ]
  },
  {
   "cell_type": "code",
   "execution_count": 8,
   "metadata": {},
   "outputs": [
    {
     "data": {
      "text/plain": [
       "magnetizacion (generic function with 1 method)"
      ]
     },
     "execution_count": 8,
     "metadata": {},
     "output_type": "execute_result"
    }
   ],
   "source": [
    "function magnetizacion(red_lista)\n",
    "    return sum(red_lista)\n",
    "end"
   ]
  },
  {
   "cell_type": "code",
   "execution_count": 9,
   "metadata": {},
   "outputs": [
    {
     "name": "stdout",
     "output_type": "stream",
     "text": [
      "1234"
     ]
    }
   ],
   "source": [
    "for i in 1:4\n",
    "    print(i)\n",
    "end"
   ]
  },
  {
   "cell_type": "code",
   "execution_count": 25,
   "metadata": {},
   "outputs": [
    {
     "ename": "LoadError",
     "evalue": "BoundsError",
     "output_type": "error",
     "traceback": [
      "BoundsError",
      "",
      "Stacktrace:",
      " [1] getindex(x::Int64, i::Int64)",
      "   @ Base ./number.jl:98",
      " [2] top-level scope",
      "   @ ./In[25]:6",
      " [3] eval",
      "   @ ./boot.jl:373 [inlined]",
      " [4] include_string(mapexpr::typeof(REPL.softscope), mod::Module, code::String, filename::String)",
      "   @ Base ./loading.jl:1196"
     ]
    }
   ],
   "source": [
    "espines =  Malla(3)\n",
    "J=0.5\n",
    "vecinos_lista = Vecinos(3)\n",
    "for j in 1:9\n",
    "    for i in 1:4 #Multiplicamos spin de la malla por sus vecinos\n",
    "        dE = 2*J*espines[j]*espines[Int(vecinos_lista[j][i])]\n",
    "    end\n",
    "end\n",
    "dE"
   ]
  },
  {
   "cell_type": "code",
   "execution_count": 11,
   "metadata": {},
   "outputs": [
    {
     "data": {
      "text/plain": [
       "1-element Vector{Float64}:\n",
       " 0.3016701885416173"
      ]
     },
     "execution_count": 11,
     "metadata": {},
     "output_type": "execute_result"
    }
   ],
   "source": [
    "rand(1)"
   ]
  },
  {
   "cell_type": "raw",
   "metadata": {},
   "source": []
  },
  {
   "cell_type": "code",
   "execution_count": 12,
   "metadata": {},
   "outputs": [
    {
     "data": {
      "text/plain": [
       "Termalizacion (generic function with 1 method)"
      ]
     },
     "execution_count": 12,
     "metadata": {},
     "output_type": "execute_result"
    }
   ],
   "source": [
    "function Termalizacion(kt, espines, Q, J)\n",
    "    N = Int(sqrt(length(espines)))\n",
    "    N² = N*N\n",
    "    Flip = []\n",
    "    flip_contador = 0\n",
    "    vecinos_lista = Vecinos(N)\n",
    "    efinc = []\n",
    "    magnefinc = []\n",
    "    dE = 0\n",
    "        for j in 1:N²\n",
    "        #Obtenemos los indices de los vecinos\n",
    "        vecinosj= vecinos_lista[j]\n",
    "        for i in vecinosj\n",
    "            dE += 2*J*espines[j]*espines[i]\n",
    "            pob = exp(-dE/kt)\n",
    "            if dE<0 || pob>rand(1)\n",
    "                espines[j] = -espines[j]\n",
    "                flip_contador += 1\n",
    "            end\n",
    "                en = energia(espines, 0.5)\n",
    "                m = sum(espines)\n",
    "                energias = append!(energias, en)\n",
    "                magne = append!(magne, m)\n",
    "                Flip = append!(Flip,flip_contador)\n",
    "        end\n",
    "        enfinc = append!(enfinc, energias)\n",
    "        magnefinc = append!(magnefinc, abs(magne))\n",
    "        end\n",
    "    return Flip, enfinc, magnefinc\n",
    "end"
   ]
  },
  {
   "cell_type": "code",
   "execution_count": null,
   "metadata": {},
   "outputs": [],
   "source": []
  },
  {
   "cell_type": "code",
   "execution_count": 13,
   "metadata": {},
   "outputs": [],
   "source": [
    "Red20 = Malla_fria(20) \n",
    "Red40 = Malla_fria(40) \n",
    "Red50 = Malla_fria(50) \n",
    "Red100 = Malla_fria(100);"
   ]
  },
  {
   "cell_type": "code",
   "execution_count": null,
   "metadata": {},
   "outputs": [],
   "source": []
  },
  {
   "cell_type": "code",
   "execution_count": 14,
   "metadata": {},
   "outputs": [
    {
     "ename": "LoadError",
     "evalue": "MethodError: no method matching isless(::Vector{Float64}, ::Float64)\n\u001b[0mClosest candidates are:\n\u001b[0m  isless(\u001b[91m::T\u001b[39m, ::T) where T<:Union{Float16, Float32, Float64} at ~/julia-1.7.2-linux-x86_64/julia-1.7.2/share/julia/base/float.jl:460\n\u001b[0m  isless(\u001b[91m::Union{StatsBase.PValue, StatsBase.TestStat}\u001b[39m, ::AbstractFloat) at ~/.julia/packages/StatsBase/Ya5vt/src/statmodels.jl:99\n\u001b[0m  isless(\u001b[91m::Union{StatsBase.PValue, StatsBase.TestStat}\u001b[39m, ::Real) at ~/.julia/packages/StatsBase/Ya5vt/src/statmodels.jl:90\n\u001b[0m  ...",
     "output_type": "error",
     "traceback": [
      "MethodError: no method matching isless(::Vector{Float64}, ::Float64)\n\u001b[0mClosest candidates are:\n\u001b[0m  isless(\u001b[91m::T\u001b[39m, ::T) where T<:Union{Float16, Float32, Float64} at ~/julia-1.7.2-linux-x86_64/julia-1.7.2/share/julia/base/float.jl:460\n\u001b[0m  isless(\u001b[91m::Union{StatsBase.PValue, StatsBase.TestStat}\u001b[39m, ::AbstractFloat) at ~/.julia/packages/StatsBase/Ya5vt/src/statmodels.jl:99\n\u001b[0m  isless(\u001b[91m::Union{StatsBase.PValue, StatsBase.TestStat}\u001b[39m, ::Real) at ~/.julia/packages/StatsBase/Ya5vt/src/statmodels.jl:90\n\u001b[0m  ...",
      "",
      "Stacktrace:",
      " [1] <(x::Vector{Float64}, y::Float64)",
      "   @ Base ./operators.jl:352",
      " [2] >(x::Float64, y::Vector{Float64})",
      "   @ Base ./operators.jl:378",
      " [3] Termalizacion(kt::Float64, espines::Vector{Int64}, Q::Int64, J::Float64)",
      "   @ Main ./In[12]:16",
      " [4] top-level scope",
      "   @ In[14]:1",
      " [5] eval",
      "   @ ./boot.jl:373 [inlined]",
      " [6] include_string(mapexpr::typeof(REPL.softscope), mod::Module, code::String, filename::String)",
      "   @ Base ./loading.jl:1196"
     ]
    }
   ],
   "source": [
    "Flip20, E20, M20 = Termalizacion(1.5, Red20, 7000, 0.5)\n",
    "Flip40, E40, M40 = Termalizacion(1.5, Red40, 7000, 0.5)\n",
    "Flip50, E50, M50 = Termalizacion(1.5, Red50, 7000, 0.5)\n",
    "Flip100, E100, M100 = Termalizacion(1.5, Red100, 7000, 0.5);"
   ]
  },
  {
   "cell_type": "code",
   "execution_count": 15,
   "metadata": {},
   "outputs": [
    {
     "ename": "LoadError",
     "evalue": "UndefVarError: E20 not defined",
     "output_type": "error",
     "traceback": [
      "UndefVarError: E20 not defined",
      "",
      "Stacktrace:",
      " [1] top-level scope",
      "   @ In[15]:1",
      " [2] eval",
      "   @ ./boot.jl:373 [inlined]",
      " [3] include_string(mapexpr::typeof(REPL.softscope), mod::Module, code::String, filename::String)",
      "   @ Base ./loading.jl:1196"
     ]
    }
   ],
   "source": [
    "plot!(Flip20, E20./20^2,label = \"Malla de 20x20\")\n",
    "plot!(Flip40, E40./40^2,label = \"Malla de 40x40\")\n",
    "plot!(Flip50, E50./50^2,label = \"Malla de 50x50\")\n",
    "plot!(Flip100, E100./100^2,label = \"Malla de 100x100\")\n",
    "plot!(xlabel = \"Spin flips\", ylabel =\"<ϵ>\")"
   ]
  },
  {
   "cell_type": "code",
   "execution_count": 16,
   "metadata": {},
   "outputs": [],
   "source": [
    "Red20_f = Malla_fria(20)\n",
    "Red40_f = Malla_fria(40)\n",
    "Red50_f = Malla_fria(50)\n",
    "Red100_f = Malla_fria(100);"
   ]
  },
  {
   "cell_type": "code",
   "execution_count": 17,
   "metadata": {},
   "outputs": [
    {
     "ename": "LoadError",
     "evalue": "MethodError: no method matching isless(::Vector{Float64}, ::Float64)\n\u001b[0mClosest candidates are:\n\u001b[0m  isless(\u001b[91m::T\u001b[39m, ::T) where T<:Union{Float16, Float32, Float64} at ~/julia-1.7.2-linux-x86_64/julia-1.7.2/share/julia/base/float.jl:460\n\u001b[0m  isless(\u001b[91m::Union{StatsBase.PValue, StatsBase.TestStat}\u001b[39m, ::AbstractFloat) at ~/.julia/packages/StatsBase/Ya5vt/src/statmodels.jl:99\n\u001b[0m  isless(\u001b[91m::Union{StatsBase.PValue, StatsBase.TestStat}\u001b[39m, ::Real) at ~/.julia/packages/StatsBase/Ya5vt/src/statmodels.jl:90\n\u001b[0m  ...",
     "output_type": "error",
     "traceback": [
      "MethodError: no method matching isless(::Vector{Float64}, ::Float64)\n\u001b[0mClosest candidates are:\n\u001b[0m  isless(\u001b[91m::T\u001b[39m, ::T) where T<:Union{Float16, Float32, Float64} at ~/julia-1.7.2-linux-x86_64/julia-1.7.2/share/julia/base/float.jl:460\n\u001b[0m  isless(\u001b[91m::Union{StatsBase.PValue, StatsBase.TestStat}\u001b[39m, ::AbstractFloat) at ~/.julia/packages/StatsBase/Ya5vt/src/statmodels.jl:99\n\u001b[0m  isless(\u001b[91m::Union{StatsBase.PValue, StatsBase.TestStat}\u001b[39m, ::Real) at ~/.julia/packages/StatsBase/Ya5vt/src/statmodels.jl:90\n\u001b[0m  ...",
      "",
      "Stacktrace:",
      " [1] <(x::Vector{Float64}, y::Float64)",
      "   @ Base ./operators.jl:352",
      " [2] >(x::Float64, y::Vector{Float64})",
      "   @ Base ./operators.jl:378",
      " [3] Termalizacion(kt::Float64, espines::Vector{Int64}, Q::Int64, J::Float64)",
      "   @ Main ./In[12]:16",
      " [4] top-level scope",
      "   @ In[17]:1",
      " [5] eval",
      "   @ ./boot.jl:373 [inlined]",
      " [6] include_string(mapexpr::typeof(REPL.softscope), mod::Module, code::String, filename::String)",
      "   @ Base ./loading.jl:1196"
     ]
    }
   ],
   "source": [
    "Flip20_f, E20_f, M20_f = Termalizacion(1.5, Red20_f, 7000, 0.5)\n",
    "Flip40_f, E40_f, M40_f = Termalizacion(1.5, Red40_f, 7000, 0.5)\n",
    "Flip50_f, E50_f, M50_f = Termalizacion(1.5, Red50_f, 7000, 0.5)\n",
    "Flip100_f, E100_f, M100_f = Termalizacion(1.5, Red0100, 7000, 0.5);"
   ]
  },
  {
   "cell_type": "code",
   "execution_count": 18,
   "metadata": {},
   "outputs": [
    {
     "ename": "LoadError",
     "evalue": "UndefVarError: E20_f not defined",
     "output_type": "error",
     "traceback": [
      "UndefVarError: E20_f not defined",
      "",
      "Stacktrace:",
      " [1] top-level scope",
      "   @ In[18]:1",
      " [2] eval",
      "   @ ./boot.jl:373 [inlined]",
      " [3] include_string(mapexpr::typeof(REPL.softscope), mod::Module, code::String, filename::String)",
      "   @ Base ./loading.jl:1196"
     ]
    }
   ],
   "source": [
    "plot!(Flip20_f,E20_f./(20^2), label = \"Malla de 20x20\")\n",
    "plot!(Flip40_f,E40_f./(40^2), label = \"Malla de 40x40\")\n",
    "plot!(Flip50_f,E50_f./(50^2), label = \"Malla de 50x50\")\n",
    "plot!(Flip100_f,E100_f./(100^2), label = \"Malla de 100x100\")\n",
    "plot!(title = \"Configuración caliente\", xlabel = \"Spin flips\", ylabel =\"<ϵ>\")"
   ]
  },
  {
   "cell_type": "code",
   "execution_count": null,
   "metadata": {},
   "outputs": [],
   "source": []
  }
 ],
 "metadata": {
  "kernelspec": {
   "display_name": "Julia 1.7.2",
   "language": "julia",
   "name": "julia-1.7"
  },
  "language_info": {
   "file_extension": ".jl",
   "mimetype": "application/julia",
   "name": "julia",
   "version": "1.7.2"
  }
 },
 "nbformat": 4,
 "nbformat_minor": 4
}
