{
 "cells": [
  {
   "cell_type": "markdown",
   "id": "110daaa8",
   "metadata": {},
   "source": [
    "# Modelo de Ising: Metropolis\n",
    "\n",
    "En este notebook se describe el modelo de Ising por medio métodos Monte Carlo: Metropolis. Se busca dar descripción cuantitativa de un ferromagneto por medio de la simulación estocástica Metropolis. Con Metropolis-Montecarlo se busca evolucionar el sistema a un estado de equilibrio dada una temperatura $T$; mientras que con integración Montecarlo se pretende determinar varias cantidades observables del sistema tales como la magnetización y la energía (?)."
   ]
  },
  {
   "cell_type": "markdown",
   "id": "43537840",
   "metadata": {},
   "source": [
    "## 1. Introducción..."
   ]
  },
  {
   "cell_type": "markdown",
   "id": "fabeb3f2",
   "metadata": {},
   "source": [
    "## 2. Simulación"
   ]
  },
  {
   "cell_type": "code",
   "execution_count": 1,
   "id": "9611a737",
   "metadata": {},
   "outputs": [
    {
     "data": {
      "text/plain": [
       "PyObject <module 'numpy' from '/home/rogve98/.julia/conda/3/lib/python3.9/site-packages/numpy/__init__.py'>"
      ]
     },
     "execution_count": 1,
     "metadata": {},
     "output_type": "execute_result"
    }
   ],
   "source": [
    "using PyPlot\n",
    "\n",
    "using PyCall\n",
    "np = pyimport(\"numpy\")"
   ]
  },
  {
   "cell_type": "markdown",
   "id": "694a12d3",
   "metadata": {},
   "source": [
    "### 2.1 Armado de la red y cálculo de la energía del sistema.\n",
    "\n",
    "Se va a construir una red de $N\\times N$ con $N^2$ número de átomos de la red. El primer paso para la simulación es generar una lista con los cuatro vecinos de cada sitio implementando condiciones de frontera periódicas. Quiere decir que cada sitio de la red $(i,j)$ va a tener cuatro vecinos (arriba, abajo, derecha e izquierda). \n",
    "\n",
    "Posteriormente, calculamos la energía de un par de configuraciones de spines y un valor de $J=0.5$ (Que se ha tomado como consenso en la clase). La energía individual está dada por\n",
    "\n",
    "$$\n",
    "E=-J\\sum_{\\langle ij\\rangle}s_is_j\n",
    "$$\n",
    "\n",
    "con $s_i,s_j=\\pm1$ dependiendo si la proyección de espín apunta hacia arriba o hacia abajo del eje de cuantización."
   ]
  },
  {
   "cell_type": "code",
   "execution_count": 2,
   "id": "b170201f",
   "metadata": {},
   "outputs": [
    {
     "data": {
      "image/png": "[encoded data removed]",
      "text/plain": [
       "Figure(PyObject <Figure size 1000x600 with 2 Axes>)"
      ]
     },
     "metadata": {},
     "output_type": "display_data"
    },
    {
     "name": "stderr",
     "output_type": "stream",
     "text": [
      "┌ Warning: `vendor()` is deprecated, use `BLAS.get_config()` and inspect the output instead\n",
      "│   caller = npyinitialize() at numpy.jl:67\n",
      "└ @ PyCall /home/rogve98/.julia/packages/PyCall/L0fLP/src/numpy.jl:67\n"
     ]
    },
    {
     "data": {
      "text/plain": [
       "PyObject Text(0.5, 1.0, 'Configuración Caliente')"
      ]
     },
     "execution_count": 2,
     "metadata": {},
     "output_type": "execute_result"
    }
   ],
   "source": [
    "#Definimos una función que nos genere la red de spines con valores ∈{1,-1}\n",
    "function redSpinesCaliente(N)\n",
    "    red = ones(Int,N,N)\n",
    "    for i in 1:N\n",
    "        for j in 1:N\n",
    "            if rand() <= 0.1\n",
    "                red[i,j] = -1\n",
    "            end\n",
    "        end\n",
    "    end\n",
    "    return red\n",
    "end\n",
    "    \n",
    "    \n",
    "redSpinesFrio(N) = ones(Int,N,N)\n",
    "redCaliente = redSpinesCaliente(100)\n",
    "redFria = redSpinesFrio(100)\n",
    "\n",
    "figure(figsize=(10,6))\n",
    "\n",
    "subplot(1,2,1)\n",
    "imshow(redFria)\n",
    "title(\"Configuración Fría\")\n",
    "\n",
    "subplot(1,2,2)\n",
    "imshow(redCaliente)\n",
    "title(\"Configuración Caliente\")\n"
   ]
  },
  {
   "attachments": {
    "arreglo1d.png": {
     "image/png": "[encoded data removed]"
    }
   },
   "cell_type": "markdown",
   "id": "983001b6",
   "metadata": {},
   "source": [
    "Queremos que nuestra red de espines la podamos expresar en un un arreglo 1-dimensional con la siguiente lógica\n",
    "\n",
    "![arreglo1d.png](attachment:arreglo1d.png)\n",
    "\n",
    "Para ello generamos una función que nos devuelva dicho arreglo con las entradas de los valores de la red de spines."
   ]
  },
  {
   "cell_type": "code",
   "execution_count": 3,
   "id": "db831992",
   "metadata": {},
   "outputs": [],
   "source": [
    "mutable struct MicroEstados\n",
    "    σ::Array{Int,1} #Arreglo de spines aleatorios\n",
    "    N::Int          #Arreglo de N×N de spines\n",
    "    frio::Array{Int,1} #Arreglo de spines alineados\n",
    "end"
   ]
  },
  {
   "cell_type": "code",
   "execution_count": 4,
   "id": "3fe337b2",
   "metadata": {},
   "outputs": [
    {
     "data": {
      "text/plain": [
       "Lista"
      ]
     },
     "execution_count": 4,
     "metadata": {},
     "output_type": "execute_result"
    }
   ],
   "source": [
    "\"\"\"\n",
    "La función devuelve un vector con las entradas de la matriz de espines\n",
    "\n",
    "N := longitud del arreglo cuadrado de N×N\n",
    "\n",
    "\"\"\"\n",
    "function Lista(N::Int)\n",
    "    matriz = redSpinesCaliente(N)\n",
    "    lista = []\n",
    "    for i in 1:N\n",
    "        for j in 1:N\n",
    "            push!(lista,matriz[i,j])\n",
    "        end\n",
    "    end\n",
    "    \n",
    "    frio = ones(N^2)\n",
    "    \n",
    "    MicroEstados(lista,N,frio)\n",
    "end"
   ]
  },
  {
   "cell_type": "code",
   "execution_count": 5,
   "id": "68ae0e0b",
   "metadata": {},
   "outputs": [
    {
     "data": {
      "text/plain": [
       "1000000-element Vector{Int64}:\n",
       " 1\n",
       " 1\n",
       " 1\n",
       " 1\n",
       " 1\n",
       " 1\n",
       " 1\n",
       " 1\n",
       " 1\n",
       " 1\n",
       " 1\n",
       " 1\n",
       " 1\n",
       " ⋮\n",
       " 1\n",
       " 1\n",
       " 1\n",
       " 1\n",
       " 1\n",
       " 1\n",
       " 1\n",
       " 1\n",
       " 1\n",
       " 1\n",
       " 1\n",
       " 1"
      ]
     },
     "execution_count": 5,
     "metadata": {},
     "output_type": "execute_result"
    }
   ],
   "source": [
    "microEstados = Lista(1000)\n",
    "microEstados.frio"
   ]
  },
  {
   "cell_type": "code",
   "execution_count": 6,
   "id": "00ad11aa",
   "metadata": {},
   "outputs": [
    {
     "data": {
      "text/plain": [
       "vecinos"
      ]
     },
     "execution_count": 6,
     "metadata": {},
     "output_type": "execute_result"
    }
   ],
   "source": [
    "\"\"\"\n",
    "Generamos la lista de los primeros vecinos para un sitio (i,j) en la matriz y para\n",
    "un sitio i del vector generado por la función Lista. La lista vendrá en la siguiente\n",
    "configuración [arriba,derecha,abajo,izquierda]\n",
    "\n",
    "Parámetros:\n",
    "\n",
    "m := Microestado que guarda la información de la red \n",
    "     de spines de N×N y la longitud N.\n",
    "i := sitio al que nos queremos enfocar\n",
    "\n",
    "\"\"\"\n",
    "function vecinos(m::MicroEstados,i::Int)\n",
    "    N² = (m.N)^2\n",
    "    N = m.N\n",
    "    \n",
    "    #Para el vecino de arriba\n",
    "    if i <= N²\n",
    "        arriba = i + N\n",
    "        if arriba > N²\n",
    "            arriba = i - N*(N-1)\n",
    "        end\n",
    "    end\n",
    "    \n",
    "    #Para el vecino de la derecha\n",
    "    if mod(i,N) != 0\n",
    "        derecha = i + 1\n",
    "    else\n",
    "        derecha = i - N + 1\n",
    "    end\n",
    "    \n",
    "    #Para el vecino de abajo\n",
    "    if i - N >= 1\n",
    "        abajo = i - N\n",
    "    else i - N < 1\n",
    "        abajo = i + N*(N-1)\n",
    "    end  \n",
    "    \n",
    "    #Para el vecino de la izquierda\n",
    "    if mod(i-1,N) != 0\n",
    "        izquierda = i - 1\n",
    "    else\n",
    "        izquierda = i + N - 1\n",
    "    end\n",
    "    \n",
    "    #Regresa los índices, recuerda\n",
    "    return [m.σ[arriba],m.σ[derecha],m.σ[abajo],m.σ[izquierda]],\n",
    "           [m.frio[arriba],m.frio[derecha],m.frio[abajo],m.frio[izquierda]]\n",
    "end"
   ]
  },
  {
   "cell_type": "code",
   "execution_count": 7,
   "id": "68e0ddc1",
   "metadata": {},
   "outputs": [
    {
     "data": {
      "text/plain": [
       "([1, 1, 1, 1], [1, 1, 1, 1])"
      ]
     },
     "execution_count": 7,
     "metadata": {},
     "output_type": "execute_result"
    }
   ],
   "source": [
    "vecinos(microEstados,1)"
   ]
  },
  {
   "cell_type": "markdown",
   "id": "b195cdbd",
   "metadata": {},
   "source": [
    "La energía para dados dos átomos en interacción esta dada por la siguiente expresión desarrollada\n",
    "\n",
    "$$\n",
    "\\Delta E_{ij}=-2J\\sigma_{i,j}(\\sigma_{i+1,j}+\\sigma_{i-1},j+\\sigma_{i,j+1}+\\sigma_{i,j-1})-2h\\sigma_{i,j}\n",
    "$$\n",
    "\n",
    "sin embargo, el último término de la igualadad anterior no lo consideraremos porque no se van a considerar campos externos al sistema de interés (ferromagneto)"
   ]
  },
  {
   "cell_type": "code",
   "execution_count": 8,
   "id": "a71e44e2",
   "metadata": {},
   "outputs": [
    {
     "data": {
      "text/plain": [
       "energiaTotal (generic function with 1 method)"
      ]
     },
     "execution_count": 8,
     "metadata": {},
     "output_type": "execute_result"
    }
   ],
   "source": [
    "\"\"\"\n",
    "Ahora generamos la energía de interacción entre átomos dada por\n",
    "E = -J⋅∑s_is_j\n",
    "\n",
    "Parámetros:\n",
    "\n",
    "m := Micro Estado con configuracion caliente y fria\n",
    "i := sitio\n",
    "\n",
    "\"\"\"\n",
    "function energia_i(m::MicroEstados,i::Int)\n",
    "    J = 0.5 #se escogió este valor por consenso en clase\n",
    "    σi = m.σ[i]\n",
    "    frio = m.frio[i]\n",
    "    \n",
    "    vecinosCaliente, vecinosFrio = vecinos(m,i)\n",
    "    sumC = 0\n",
    "    sumF = 0\n",
    "    for i in 1:4\n",
    "        sumC += vecinosCaliente[i]\n",
    "        sumF += vecinosFrio[i]\n",
    "    end\n",
    "    return -2J*σi*sumC, -2J*frio*sumF\n",
    "end   \n",
    "\n",
    "function energiaTotal(m::MicroEstados)\n",
    "    sumC = 0\n",
    "    sumF = 0\n",
    "    energias = []\n",
    "    eCaliente = zeros(m.N^2)\n",
    "    eFria = zeros(m.N^2)\n",
    "    for i in 1:m.N^2\n",
    "        push!(energias,energia_i(m,i))\n",
    "        eCaliente[i] , eFria[i] = energias[i]\n",
    "        #eCaliente[i] = energias[i]\n",
    "        sumC += eCaliente[i]\n",
    "        sumF += eFria[i]\n",
    "    end\n",
    "    \n",
    "    return sumC,sumF #Por qué dividiamos entre dos?\n",
    "end"
   ]
  },
  {
   "cell_type": "code",
   "execution_count": 9,
   "id": "a0684290",
   "metadata": {},
   "outputs": [
    {
     "name": "stdout",
     "output_type": "stream",
     "text": [
      "(-4.0, -4.0)\n",
      "(-2.56148e6, -4.0e6)\n"
     ]
    }
   ],
   "source": [
    "println(energia_i(microEstados,1))\n",
    "println(energiaTotal(microEstados))"
   ]
  },
  {
   "cell_type": "markdown",
   "id": "de01b3e3",
   "metadata": {},
   "source": [
    "### 2.2 Cálculo de la temperatura crítica\n",
    "\n",
    "Para determinar la temperatura crítica en la que ocurre la transición de fase de ferromagneto a paramagneto, necesitamos determinar la solución de la siguiente ecuación trascendental\n",
    "\n",
    "$$\n",
    "2\\tanh^2\\left(\\frac{2J}{K_BT_C}\\right)=1\n",
    "$$\n",
    "\n",
    "Considerando que $K_B=1$ se encuentra en unidades naturales para que la ecuación tenga sentido. Para ello vamos a determinar la solución mediante el método de Newton-Rhapson."
   ]
  },
  {
   "cell_type": "code",
   "execution_count": 10,
   "id": "2d5b6562",
   "metadata": {},
   "outputs": [
    {
     "data": {
      "image/png": "[encoded data removed]",
      "text/plain": [
       "Figure(PyObject <Figure size 640x480 with 1 Axes>)"
      ]
     },
     "metadata": {},
     "output_type": "display_data"
    },
    {
     "data": {
      "text/plain": [
       "1-element Vector{PyObject}:\n",
       " PyObject <matplotlib.lines.Line2D object at 0x7f3be3fa38e0>"
      ]
     },
     "execution_count": 10,
     "metadata": {},
     "output_type": "execute_result"
    }
   ],
   "source": [
    "xs = range(-5, stop = 5, length = 100)\n",
    "ys = [2*tanh(1/T)^2 for T in xs]\n",
    "ys1 = [1 for x in xs]\n",
    "plot(xs,ys)\n",
    "plot(xs,ys1)"
   ]
  },
  {
   "cell_type": "code",
   "execution_count": 11,
   "id": "61d45a3e",
   "metadata": {},
   "outputs": [
    {
     "data": {
      "text/plain": [
       "newtonRhapson (generic function with 1 method)"
      ]
     },
     "execution_count": 11,
     "metadata": {},
     "output_type": "execute_result"
    }
   ],
   "source": [
    "#Igualando la ecuación trascendental a cero y quedándonos con el lado izquierdo\n",
    "tempCritica(T) = 2*tanh(1/T)^2 - 1 \n",
    "\n",
    "function Dcentrada(f,a,h)\n",
    "    derivada = (f(a+h) - f(a-h))/2h\n",
    "    return derivada\n",
    "end\n",
    "\n",
    "function newtonRhapson(f,x_inicial,epsilon,n)\n",
    "    h=0.0001\n",
    "    if n==1\n",
    "        return x_inicial\n",
    "    elseif n > 1\n",
    "        iteracion = newtonRhapson(f,x_inicial,epsilon,n-1)-f(newtonRhapson(f,x_inicial,epsilon,n-1))/Dcentrada(f,newtonRhapson(f,x_inicial,epsilon,n-1),h)\n",
    "    end\n",
    "    return iteracion\n",
    "end"
   ]
  },
  {
   "cell_type": "code",
   "execution_count": 12,
   "id": "dc3d3a2e",
   "metadata": {},
   "outputs": [
    {
     "data": {
      "text/plain": [
       "1.134592657106511"
      ]
     },
     "execution_count": 12,
     "metadata": {},
     "output_type": "execute_result"
    }
   ],
   "source": [
    "raiz = newtonRhapson(tempCritica,2,0.01,10)"
   ]
  },
  {
   "cell_type": "markdown",
   "id": "4f45c327",
   "metadata": {},
   "source": [
    "### 2.3 Evolución y termalización del sistema\n",
    "\n",
    "En esta sección se abarcará la integración Montecarlo y la simulación con el algorítmo de Metropolis. La función de partición es la herramienta fundamental por la que se hallan las cantidades observables y la función de estado.\n",
    "\n",
    "$$\n",
    "Z = \\sum_{C}e^{-\\beta E(C)}\n",
    "$$\n",
    "\n",
    "donde $\\beta=1K_BT$ y la suma corre sobre todas las posibles configuraciones posibles de los átomos de la red, sin embargo realizar cálculos es muy exhaustivo por lo que se requieren otro tipo de técnicas para poder resolver el problema. El algorítmo Metropolis Montecarlo \"se centra en el cálculo de probabilidades de transición entre dos diferentes configuraciones (eliminando así la necesidad de la función de partición) y que tiene por objetivo generar  una colección de configuraciones de espines que obedezcan la distribución del ensamble canónico (del Ángel, 2022)\""
   ]
  },
  {
   "cell_type": "code",
   "execution_count": 13,
   "id": "0358f4fe",
   "metadata": {},
   "outputs": [
    {
     "data": {
      "text/plain": [
       "Metropolis (generic function with 1 method)"
      ]
     },
     "execution_count": 13,
     "metadata": {},
     "output_type": "execute_result"
    }
   ],
   "source": [
    "\"\"\"\n",
    "Generamos una función para voltear el spín; se va a utilizar para\n",
    "pasar de una configuración C_j a una C_k después de cierto número de pasos.\n",
    "\n",
    "Parámetros\n",
    "\n",
    "m := MicroEstado\n",
    "i := Sitio de la configuración de la lista de spines generada.\n",
    "\n",
    "\"\"\"\n",
    "volteaSpinC(m::MicroEstados,i::Int) = m.σ[i] *= -1 #De esta manera se voltean los ±1\n",
    "volteaSpinF(m::MicroEstados,i::Int) = m.frio[i] *= -1\n",
    "\n",
    "\"\"\"\n",
    "Generamos una función para cambiar de Micro Estado, si estamos en uno C_j y queremos\n",
    "cambiar a otro C_k, proponemos ese cambio en lugar de pasar por un número n de\n",
    "micro estados, esperando que de esta manera C_j y C_k no estén correlacionados.\n",
    "\n",
    "Parámetros\n",
    "\n",
    "m := MicroEstado\n",
    "\n",
    "\n",
    "\"\"\"\n",
    "function eleccionDeMicroEstado(m::MicroEstados)\n",
    "    i = rand(1:m.N)\n",
    "    ΔEcaliente, ΔEfria = energia_i(m,i)\n",
    "    \n",
    "    return ΔEcaliente, ΔEfria, i\n",
    "end\n",
    "\n",
    "\"\"\"\n",
    "Generamos el paso Metropolis-MonteCarlo que consiste en ubicarse en un Micro Estado\n",
    "arbitrario para voltearle el spin y calcular su energía de interacción con sus vecinos.\n",
    "El micro estado se acepta si cumple que el mínimo entre e^(-β*ΔE) y 1 es mayor a un \n",
    "número aleatorio entre 0 y 1. Las pruebas en la simulación se harán para una temperatura\n",
    "fría y otra caliente.\n",
    "\n",
    "Parámteros\n",
    "\n",
    "m := MicroEstado\n",
    "T := Temperatura\n",
    "conf := configuración caliente o fria\n",
    "\n",
    "\"\"\"\n",
    "\n",
    "function Metropolis(m::MicroEstados,T::Float64,conf::String)\n",
    "    aceptado = false\n",
    "    β = 1/T\n",
    "    while aceptado == false\n",
    "        \n",
    "        ΔEcaliente , ΔEfria, i = eleccionDeMicroEstado(m)\n",
    "        if conf == \"caliente\"\n",
    "            parametro = min(1.,exp(-β*ΔEcaliente))\n",
    "            if rand() < parametro\n",
    "                aceptado = true\n",
    "                volteaSpinC(m,i)\n",
    "                return ΔEcaliente\n",
    "            end\n",
    "        \n",
    "        elseif conf == \"fria\"\n",
    "            parametro = min(1.,exp(-β*ΔEfria))\n",
    "            if rand() < parametro\n",
    "                aceptado = true\n",
    "                volteaSpinF(m,i)\n",
    "                return ΔEfria\n",
    "            end\n",
    "        else\n",
    "            return \"Escoge entre caliente o fria\"\n",
    "        end\n",
    "    end    \n",
    "end"
   ]
  },
  {
   "cell_type": "code",
   "execution_count": 14,
   "id": "d9448050",
   "metadata": {},
   "outputs": [
    {
     "data": {
      "text/plain": [
       "-4.0"
      ]
     },
     "execution_count": 14,
     "metadata": {},
     "output_type": "execute_result"
    }
   ],
   "source": [
    "Metropolis(microEstados,0.5,\"fria\")"
   ]
  },
  {
   "cell_type": "markdown",
   "id": "7014397c",
   "metadata": {},
   "source": [
    "#### 2.3.2 Simluación Monte-Carlo \n",
    "\n",
    "Se utilizará el algorítmo de selección: Metropolis para hacer una iteración de n pasos para poder ver las interacciones que presentan los átomos al voltearle el spín..."
   ]
  },
  {
   "cell_type": "code",
   "execution_count": 15,
   "id": "73cff8c8",
   "metadata": {},
   "outputs": [
    {
     "data": {
      "text/plain": [
       "simulacionMontecarlo"
      ]
     },
     "execution_count": 15,
     "metadata": {},
     "output_type": "execute_result"
    }
   ],
   "source": [
    "\"\"\"\n",
    "Simulación montecarlo, es utilizar metropolis para un número n de pasos.\n",
    "\n",
    "Parámetros\n",
    "\n",
    "m := MicroEstados\n",
    "T := Temperatura\n",
    "n := número de pasos\n",
    "conf := configuración caliente o fria\n",
    "\n",
    "\n",
    "\"\"\"\n",
    "function simulacionMontecarlo(m::MicroEstados,T,n::Int,conf::String)\n",
    "    β = 1/T\n",
    "    \n",
    "    energiaCaliente = zeros(n)\n",
    "    energiaFria = zeros(n)\n",
    "    energiaCaliente[1] , energiaFria[1] = energiaTotal(m)\n",
    "    \n",
    "\n",
    "    if conf == \"caliente\"\n",
    "        for i in 1:n-1 \n",
    "            ΔE = Metropolis(m,β,conf) \n",
    "            energiaCaliente[i+1] = energiaCaliente[i] + ΔE\n",
    "        end\n",
    "        return energiaCaliente\n",
    "   \n",
    "    elseif conf == \"fria\"\n",
    "        for i in 1:n-1\n",
    "            ΔE = Metropolis(m,β,conf)\n",
    "            energiaFria[i+1] = energiaCaliente[i] + ΔE\n",
    "        end\n",
    "        return energiaFria\n",
    "    end\n",
    "end"
   ]
  },
  {
   "cell_type": "code",
   "execution_count": 16,
   "id": "942a0794",
   "metadata": {},
   "outputs": [
    {
     "data": {
      "text/plain": [
       "1000"
      ]
     },
     "execution_count": 16,
     "metadata": {},
     "output_type": "execute_result"
    }
   ],
   "source": [
    "microEstados = Lista(1000)\n",
    "microEstados.N"
   ]
  },
  {
   "cell_type": "code",
   "execution_count": 17,
   "id": "c04585a4",
   "metadata": {},
   "outputs": [
    {
     "data": {
      "text/plain": [
       "([1, 1, 1, 1], [1, 1, 1, 1])"
      ]
     },
     "execution_count": 17,
     "metadata": {},
     "output_type": "execute_result"
    }
   ],
   "source": [
    "vecinos(microEstados,1)"
   ]
  },
  {
   "cell_type": "code",
   "execution_count": 18,
   "id": "e14c0317",
   "metadata": {},
   "outputs": [
    {
     "name": "stdout",
     "output_type": "stream",
     "text": [
      "(-4.0, -4.0)\n",
      "(-2.554408e6, -4.0e6)\n"
     ]
    }
   ],
   "source": [
    "println(energia_i(microEstados,1))\n",
    "println(energiaTotal(microEstados))"
   ]
  },
  {
   "cell_type": "code",
   "execution_count": 19,
   "id": "33b66687",
   "metadata": {},
   "outputs": [
    {
     "data": {
      "text/plain": [
       "10000-element Vector{Float64}:\n",
       " -2.554408e6\n",
       " -2.55441e6\n",
       " -2.554412e6\n",
       " -2.554416e6\n",
       " -2.55442e6\n",
       " -2.554424e6\n",
       " -2.554428e6\n",
       " -2.55443e6\n",
       " -2.554432e6\n",
       " -2.554436e6\n",
       " -2.554438e6\n",
       " -2.554442e6\n",
       " -2.554444e6\n",
       "  ⋮\n",
       " -2.55594e6\n",
       " -2.55594e6\n",
       " -2.55594e6\n",
       " -2.555938e6\n",
       " -2.555938e6\n",
       " -2.555938e6\n",
       " -2.55594e6\n",
       " -2.55594e6\n",
       " -2.55594e6\n",
       " -2.55594e6\n",
       " -2.55594e6\n",
       " -2.55594e6"
      ]
     },
     "execution_count": 19,
     "metadata": {},
     "output_type": "execute_result"
    }
   ],
   "source": [
    "enerFria = simulacionMontecarlo(microEstados,1.5,10000,\"fria\")\n",
    "enerCaliente = simulacionMontecarlo(microEstados,1.5,10000,\"caliente\")"
   ]
  },
  {
   "cell_type": "code",
   "execution_count": 20,
   "id": "3df82c4a",
   "metadata": {},
   "outputs": [
    {
     "data": {
      "image/png": "[encoded data removed]",
      "text/plain": [
       "Figure(PyObject <Figure size 640x480 with 1 Axes>)"
      ]
     },
     "metadata": {},
     "output_type": "display_data"
    },
    {
     "data": {
      "text/plain": [
       "PyObject <matplotlib.legend.Legend object at 0x7f3be3f04f40>"
      ]
     },
     "execution_count": 20,
     "metadata": {},
     "output_type": "execute_result"
    }
   ],
   "source": [
    "#plot(enerFria/10000,label = \"Fria\")\n",
    "plot(enerCaliente/10000, label = \"Caliente\")\n",
    "legend()"
   ]
  },
  {
   "cell_type": "markdown",
   "id": "15e4a103",
   "metadata": {},
   "source": [
    "### Opción de termalización"
   ]
  },
  {
   "cell_type": "code",
   "execution_count": 21,
   "id": "345b8ace",
   "metadata": {},
   "outputs": [
    {
     "data": {
      "text/plain": [
       "Metropolis1 (generic function with 1 method)"
      ]
     },
     "execution_count": 21,
     "metadata": {},
     "output_type": "execute_result"
    }
   ],
   "source": [
    "function Metropolis1(m::MicroEstados,T,n::Int,conf::String)\n",
    "    β = 1/T\n",
    "    energiaCaliente = zeros(n)\n",
    "    energiaCaliente[1] = 0\n",
    "    if conf == \"caliente\"\n",
    "        for k in 1:n-1\n",
    "          for i in 1:m.N^2\n",
    "                ΔE = energia_i(m,i)\n",
    "                if ΔE < 0 || rand() < exp(ΔE*β)\n",
    "                    volteaSpinC(m,i)\n",
    "                end\n",
    "                energiaCaliente[i+1] = energiaCaliente[i] + ΔE\n",
    "            end\n",
    "        end\n",
    "        return energiaCaliente\n",
    "    end\n",
    "end"
   ]
  },
  {
   "cell_type": "code",
   "execution_count": 22,
   "id": "11066d34",
   "metadata": {},
   "outputs": [],
   "source": [
    "#ener = Metropolis1(microEstados,0.5,1000000,\"caliente\")"
   ]
  },
  {
   "cell_type": "code",
   "execution_count": 23,
   "id": "e2ab4870",
   "metadata": {},
   "outputs": [],
   "source": [
    "#plot(ener)"
   ]
  },
  {
   "cell_type": "code",
   "execution_count": null,
   "id": "d7704cf6",
   "metadata": {},
   "outputs": [],
   "source": []
  }
 ],
 "metadata": {
  "kernelspec": {
   "display_name": "Julia 1.7.2",
   "language": "julia",
   "name": "julia-1.7"
  },
  "language_info": {
   "file_extension": ".jl",
   "mimetype": "application/julia",
   "name": "julia",
   "version": "1.7.2"
  }
 },
 "nbformat": 4,
 "nbformat_minor": 5
}
