{
 "cells": [
  {
   "cell_type": "markdown",
   "id": "43b2bdf1",
   "metadata": {},
   "source": [
    "# Prueba del modelo de Ising con el código que vi en github de @rodrigolece"
   ]
  },
  {
   "cell_type": "code",
   "execution_count": 1,
   "id": "64e1a491",
   "metadata": {},
   "outputs": [
    {
     "data": {
      "text/plain": [
       "PyObject <module 'numpy' from '/home/rogve98/.julia/conda/3/lib/python3.9/site-packages/numpy/__init__.py'>"
      ]
     },
     "execution_count": 1,
     "metadata": {},
     "output_type": "execute_result"
    }
   ],
   "source": [
    "export MicroEstado, edo_aleatorio, energia_total, magnetizacion_total, simulacion_montecarlo\n",
    "export microEstados_montecarlo\n",
    "import Base.show\n",
    "using LinearAlgebra\n",
    "using PyPlot\n",
    "\n",
    "using PyCall\n",
    "np = pyimport(\"numpy\")"
   ]
  },
  {
   "cell_type": "code",
   "execution_count": 2,
   "id": "c203434e",
   "metadata": {},
   "outputs": [],
   "source": [
    "struct MicroEstado\n",
    "    σ::Array{Int,2}\n",
    "\t# Vamos a suponer que todas las configuraciones son cuadradas\n",
    "    L::Int\n",
    "    frio::Array{Int,2}\n",
    "end"
   ]
  },
  {
   "cell_type": "code",
   "execution_count": 3,
   "id": "81a3e34c",
   "metadata": {},
   "outputs": [
    {
     "data": {
      "text/plain": [
       "show (generic function with 308 methods)"
      ]
     },
     "execution_count": 3,
     "metadata": {},
     "output_type": "execute_result"
    }
   ],
   "source": [
    "show(io::IO, m::MicroEstado) = print(io, m.σ)"
   ]
  },
  {
   "cell_type": "code",
   "execution_count": 4,
   "id": "7e5554f1",
   "metadata": {},
   "outputs": [
    {
     "data": {
      "text/plain": [
       "energia_ij (generic function with 1 method)"
      ]
     },
     "execution_count": 4,
     "metadata": {},
     "output_type": "execute_result"
    }
   ],
   "source": [
    "function edo_aleatorio(L::Int)\n",
    "    σ = ones(Int, (L,L))\n",
    "    for i in 1:L^2\n",
    "        if rand() <= 0.5\n",
    "\t\t\tσ[i] = -1\n",
    "        end\n",
    "\tend\n",
    "    frio = ones(Int,L,L)\n",
    "    MicroEstado(σ,L,frio)\n",
    "end\n",
    "\n",
    "function voltea_espin!(m::MicroEstado, i::Int, j::Int,conf::String)\n",
    "    if conf == \"caliente\"\n",
    "        m.σ[i,j] *= -1\n",
    "    elseif conf == \"fria\"\n",
    "        m.frio[i,j] *= -1\n",
    "    end\n",
    "end\n",
    "\n",
    "function energia_ij(m::MicroEstado, i::Int, j::Int,conf::String)\n",
    "    L = m.L\n",
    "    if conf == \"caliente\"\n",
    "        -m.σ[i,j]*(m.σ[mod1(i-1,L),j] + m.σ[mod1(i+1,L),j] + m.σ[i,mod1(j-1,L)] + m.σ[i,mod1(j+1,L)])\n",
    "    elseif conf == \"fria\"\n",
    "        -m.frio[i,j]*(m.frio[mod1(i-1,L),j]+m.frio[mod1(i+1,L),j]+m.frio[i,mod1(j-1,L)]+m.frio[i,mod1(j+1,L)])\n",
    "        #-m.frio[i,j]*(m.frio[mod1(i-1,L),j]+m.frio[mod1(i+1,L),j]+m.frio[i,mod1(j-1,L)]+m.frio[i,mod1(j+1,L)])\n",
    "    end\n",
    "end\n",
    "        "
   ]
  },
  {
   "cell_type": "code",
   "execution_count": 5,
   "id": "d50714b1",
   "metadata": {},
   "outputs": [
    {
     "data": {
      "text/plain": [
       "energia_total (generic function with 1 method)"
      ]
     },
     "execution_count": 5,
     "metadata": {},
     "output_type": "execute_result"
    }
   ],
   "source": [
    "function energia_total(m::MicroEstado,conf::String)\n",
    "\tout = 0.\n",
    "    for i in 1:m.L, j in 1:m.L\n",
    "\t\tout += energia_ij(m,i,j,conf)\n",
    "    end\n",
    "    out\n",
    "end"
   ]
  },
  {
   "cell_type": "code",
   "execution_count": 6,
   "id": "0cbc253e",
   "metadata": {},
   "outputs": [
    {
     "data": {
      "text/plain": [
       "propone_cambio (generic function with 1 method)"
      ]
     },
     "execution_count": 6,
     "metadata": {},
     "output_type": "execute_result"
    }
   ],
   "source": [
    "function propone_cambio(m::MicroEstado, β::Float64,conf::String)\n",
    "    i, j = rand(1:m.L), rand(1:m.L)  # Es más rápido que rand(1:m.L, 2)\n",
    "\tΔE = -2*energia_ij(m, i, j, conf)\n",
    "\n",
    "\tΔE, i, j\n",
    "end"
   ]
  },
  {
   "cell_type": "code",
   "execution_count": 7,
   "id": "7a020821",
   "metadata": {},
   "outputs": [
    {
     "data": {
      "text/plain": [
       "paso_montecarlo! (generic function with 1 method)"
      ]
     },
     "execution_count": 7,
     "metadata": {},
     "output_type": "execute_result"
    }
   ],
   "source": [
    "function paso_montecarlo!(m::MicroEstado, β::Float64,conf::String)\n",
    "\taceptado = false\n",
    "\n",
    "\twhile aceptado == false\n",
    "\t\tΔE, i, j = propone_cambio(m, β,conf)\n",
    "\n",
    "\t\t# El parámetro de aceptación\n",
    "\t\tα = min(1., exp(-β*ΔE))\n",
    "\n",
    "\t\tif rand() < α\n",
    "\t\t\taceptado = true\n",
    "\t\t\tΔM = -2*m.σ[i,j]\n",
    "\t\t\tvoltea_espin!(m, i, j,conf)\n",
    "\t\t\treturn ΔE, ΔM\n",
    "\t\tend\n",
    "    end\n",
    "end"
   ]
  },
  {
   "cell_type": "code",
   "execution_count": 8,
   "id": "c0ef1377",
   "metadata": {},
   "outputs": [
    {
     "data": {
      "text/plain": [
       "magnetizacion_total (generic function with 1 method)"
      ]
     },
     "execution_count": 8,
     "metadata": {},
     "output_type": "execute_result"
    }
   ],
   "source": [
    "function magnetizacion_total(m::MicroEstado,conf::String)\n",
    "    if conf == \"caliente\"\n",
    "        sum(m.σ)\n",
    "    elseif conf == \"fria\"\n",
    "        sum(m.frio)\n",
    "    end\n",
    "end"
   ]
  },
  {
   "cell_type": "code",
   "execution_count": 9,
   "id": "146d2d76",
   "metadata": {},
   "outputs": [
    {
     "data": {
      "text/plain": [
       "simulacion_montecarlo (generic function with 1 method)"
      ]
     },
     "execution_count": 9,
     "metadata": {},
     "output_type": "execute_result"
    }
   ],
   "source": [
    "    function simulacion_montecarlo(L::Int, T, num_pasos::Int,conf)\n",
    "        β = 1/T\n",
    "        m = edo_aleatorio(L)\n",
    "\n",
    "        ener = zeros(num_pasos)\n",
    "        ener[1] = energia_total(m,conf)\n",
    "        mag = zeros(num_pasos)\n",
    "        mag[1] = magnetizacion_total(m,conf)\n",
    "\n",
    "        for i in 1:num_pasos-1\n",
    "            ΔE, ΔM = paso_montecarlo!(m, β,conf)\n",
    "            ener[i+1] = ener[i] + ΔE\n",
    "            mag[i+1] = mag[i] + ΔM\n",
    "        end\n",
    "\n",
    "        return ener, mag, m\n",
    "    end"
   ]
  },
  {
   "cell_type": "code",
   "execution_count": 10,
   "id": "58208703",
   "metadata": {},
   "outputs": [
    {
     "data": {
      "text/plain": [
       "-10000.0"
      ]
     },
     "execution_count": 10,
     "metadata": {},
     "output_type": "execute_result"
    }
   ],
   "source": [
    "m = edo_aleatorio(50)\n",
    "energia_total(m,\"fria\")"
   ]
  },
  {
   "cell_type": "code",
   "execution_count": 11,
   "id": "408c10b8",
   "metadata": {},
   "outputs": [
    {
     "name": "stdout",
     "output_type": "stream",
     "text": [
      "  0.411231 seconds (257.27 k allocations: 15.891 MiB, 28.15% compilation time)\n"
     ]
    },
    {
     "data": {
      "text/plain": [
       "([-304.0, -308.0, -308.0, -308.0, -308.0, -312.0, -320.0, -324.0, -324.0, -324.0  …  -19632.0, -19632.0, -19632.0, -19632.0, -19632.0, -19632.0, -19632.0, -19632.0, -19632.0, -19632.0], [-82.0, -80.0, -78.0, -76.0, -74.0, -76.0, -78.0, -80.0, -82.0, -80.0  …  2414.0, 2412.0, 2410.0, 2412.0, 2410.0, 2412.0, 2414.0, 2416.0, 2414.0, 2416.0], [1 1 … 1 1; 1 1 … 1 1; … ; 1 1 … 1 1; 1 1 … 1 1])"
      ]
     },
     "execution_count": 11,
     "metadata": {},
     "output_type": "execute_result"
    }
   ],
   "source": [
    "    #con 1millon jala en 3 seegundos\n",
    "    @time begin\n",
    "    L=100\n",
    "    T=0.5\n",
    "    num_pasos = 100000\n",
    "    ener, mag, m = simulacion_montecarlo(L::Int, T, num_pasos::Int,\"caliente\")\n",
    "    end"
   ]
  },
  {
   "cell_type": "code",
   "execution_count": 12,
   "id": "282882d9",
   "metadata": {},
   "outputs": [],
   "source": [
    "#enerF, magF, mF = simulacion_montecarlo(L::Int, T, num_pasos::Int,\"fria\")"
   ]
  },
  {
   "cell_type": "code",
   "execution_count": 13,
   "id": "e63243bb",
   "metadata": {},
   "outputs": [
    {
     "data": {
      "image/png": "[encoded data removed]",
      "text/plain": [
       "Figure(PyObject <Figure size 1500x600 with 2 Axes>)"
      ]
     },
     "metadata": {},
     "output_type": "display_data"
    },
    {
     "name": "stderr",
     "output_type": "stream",
     "text": [
      "┌ Warning: `vendor()` is deprecated, use `BLAS.get_config()` and inspect the output instead\n",
      "│   caller = npyinitialize() at numpy.jl:67\n",
      "└ @ PyCall /home/rogve98/.julia/packages/PyCall/L0fLP/src/numpy.jl:67\n"
     ]
    },
    {
     "data": {
      "text/plain": [
       "PyObject <matplotlib.legend.Legend object at 0x7fad30348580>"
      ]
     },
     "execution_count": 13,
     "metadata": {},
     "output_type": "execute_result"
    }
   ],
   "source": [
    "figure(figsize=(15,6))\n",
    "\n",
    "subplot(1,2,1)\n",
    "#plot(enerF,label =\"fria\")\n",
    "plot(ener/50^2,label=\"caliente\")\n",
    "title(\"Energia\")\n",
    "legend()\n",
    "\n",
    "subplot(1,2,2)\n",
    "#plot(magF,label=\"fria\")\n",
    "plot(mag/50^2,label = \"caliente\")\n",
    "title(\"Magnetización\")\n",
    "legend()"
   ]
  },
  {
   "cell_type": "code",
   "execution_count": 14,
   "id": "c93e5aa5",
   "metadata": {
    "scrolled": true
   },
   "outputs": [
    {
     "data": {
      "image/png": "[encoded data removed]",
      "text/plain": [
       "Figure(PyObject <Figure size 640x480 with 1 Axes>)"
      ]
     },
     "metadata": {},
     "output_type": "display_data"
    }
   ],
   "source": [
    "imshow(m.σ)\n",
    "title(\"Red de N=100, T=0.5\")\n",
    "savefig(\"T01.jpg\")"
   ]
  },
  {
   "cell_type": "code",
   "execution_count": 15,
   "id": "e43e67af",
   "metadata": {},
   "outputs": [
    {
     "data": {
      "text/plain": [
       "microEstados_montecarlo (generic function with 1 method)"
      ]
     },
     "execution_count": 15,
     "metadata": {},
     "output_type": "execute_result"
    }
   ],
   "source": [
    "function microEstados_montecarlo(L::Int, T, num_pasos::Int,conf)\n",
    "\tβ = 1/T\n",
    "\tm = edo_aleatorio(L)\n",
    "\n",
    "\tout = Array{Int,2}[copy(m.σ)]\n",
    "\tsizehint!(out, num_pasos)\n",
    "\n",
    "\tfor i in 1:num_pasos-1\n",
    "\t\tpaso_montecarlo!(m, β,conf)\n",
    "\t\tpush!(out, copy(m.σ))\n",
    "\tend\n",
    "\n",
    "\tout\n",
    "end"
   ]
  },
  {
   "cell_type": "code",
   "execution_count": 16,
   "id": "69c8c4ba",
   "metadata": {},
   "outputs": [
    {
     "data": {
      "image/png": "[encoded data removed]",
      "text/plain": [
       "Figure(PyObject <Figure size 640x480 with 1 Axes>)"
      ]
     },
     "metadata": {},
     "output_type": "display_data"
    },
    {
     "data": {
      "text/plain": [
       "PyObject <matplotlib.image.AxesImage object at 0x7facee766a30>"
      ]
     },
     "execution_count": 16,
     "metadata": {},
     "output_type": "execute_result"
    }
   ],
   "source": [
    "imshow(microEstados_montecarlo(100,1.5,100000,\"caliente\")[end])"
   ]
  },
  {
   "cell_type": "code",
   "execution_count": null,
   "id": "1bb3b99b",
   "metadata": {},
   "outputs": [],
   "source": []
  }
 ],
 "metadata": {
  "kernelspec": {
   "display_name": "Julia 1.7.2",
   "language": "julia",
   "name": "julia-1.7"
  },
  "language_info": {
   "file_extension": ".jl",
   "mimetype": "application/julia",
   "name": "julia",
   "version": "1.7.2"
  }
 },
 "nbformat": 4,
 "nbformat_minor": 5
}
